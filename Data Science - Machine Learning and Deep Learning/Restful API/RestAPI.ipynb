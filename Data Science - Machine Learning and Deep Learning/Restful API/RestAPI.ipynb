{
 "cells": [
  {
   "cell_type": "code",
   "execution_count": null,
   "metadata": {},
   "outputs": [],
   "source": [
    "from flask import Flask, jsonify, request\n",
    "from flask_restful import Api, Resource"
   ]
  },
  {
   "cell_type": "code",
   "execution_count": 99,
   "metadata": {},
   "outputs": [],
   "source": [
    "app = Flask(__name__)\n",
    "api = Api(app)"
   ]
  },
  {
   "cell_type": "code",
   "execution_count": 100,
   "metadata": {},
   "outputs": [],
   "source": [
    "def checkPostedData(postedData,functionName):\n",
    "    if (functionName == \"add\" or functionName == \"subract\" or functionName == \"multiply\"):\n",
    "        if \"x\" not in postedData or \"y\" not in postedData:\n",
    "            return 301   #301 stands for error\n",
    "        else:\n",
    "            return 200\n",
    "    elif (functionName == \"divide\"):\n",
    "        if \"x\" not in postedData or \"y\" not in postedData:\n",
    "            return 301\n",
    "        elif int(postedData[\"y\"]) == 0:\n",
    "            return 302\n",
    "        else:\n",
    "            return 200"
   ]
  },
  {
   "cell_type": "code",
   "execution_count": 101,
   "metadata": {},
   "outputs": [],
   "source": [
    "class Add(Resource):\n",
    "    def post(self):\n",
    "        \n",
    "        #Step 1 : Get posted data\n",
    "        postedData = request.get_json()\n",
    "        \n",
    "        #Step 2 : Verify validity of posted data\n",
    "        status_code = checkPostedData(postedData,\"add\")\n",
    "        if (status_code!=200):\n",
    "            retJson = {\"Message\" : \"Missing Parameters\" , \"Status_Code\" : status_code}\n",
    "            return jsonify(retJson)\n",
    "        \n",
    "        x = postedData[\"x\"]\n",
    "        y = postedData[\"y\"]\n",
    "        x = int(x)\n",
    "        y = int(y)\n",
    "        \n",
    "        #Step 3 : Add the posted data\n",
    "        ret = x+y\n",
    "        retMap = {\"Sum\" : ret , \"Status_Code\" : 200}  #200 stands for success\n",
    "        return jsonify(retMap)"
   ]
  },
  {
   "cell_type": "code",
   "execution_count": 102,
   "metadata": {},
   "outputs": [],
   "source": [
    "class Subract(Resource):\n",
    "    def post(self):\n",
    "        \n",
    "        #Step 1 : Get posted data\n",
    "        postedData = request.get_json()\n",
    "        \n",
    "        #Step 2 : Verify validity of posted data\n",
    "        status_code = checkPostedData(postedData,\"subract\")\n",
    "        if (status_code!=200):\n",
    "            retJson = {\"Message\" : \"Missing Parameters\" , \"Status_Code\" : status_code}\n",
    "            return jsonify(retJson)\n",
    "        \n",
    "        x = postedData[\"x\"]\n",
    "        y = postedData[\"y\"]\n",
    "        x = int(x)\n",
    "        y = int(y)\n",
    "        \n",
    "        #Step 3 : Subract the posted data\n",
    "        ret = x-y\n",
    "        retMap = {\"Subraction\" : ret , \"Status_Code\" : 200}  #200 stands for success\n",
    "        return jsonify(retMap)\n",
    "    "
   ]
  },
  {
   "cell_type": "code",
   "execution_count": 103,
   "metadata": {},
   "outputs": [],
   "source": [
    "class Multiply(Resource):\n",
    "      def post(self):\n",
    "        \n",
    "        #Step 1 : Get posted data\n",
    "        postedData = request.get_json()\n",
    "        \n",
    "        #Step 2 : Verify validity of posted data\n",
    "        status_code = checkPostedData(postedData,\"multiply\")\n",
    "        if (status_code!=200):\n",
    "            retJson = {\"Message\" : \"Missing Parameters\" , \"Status_Code\" : status_code}\n",
    "            return jsonify(retJson)\n",
    "        \n",
    "        x = postedData[\"x\"]\n",
    "        y = postedData[\"y\"]\n",
    "        x = int(x)\n",
    "        y = int(y)\n",
    "        \n",
    "        #Step 3 : Multiply the posted data\n",
    "        ret = x*y\n",
    "        retMap = {\"Multiplication\" : ret , \"Status_Code\" : 200}  #200 stands for success\n",
    "        return jsonify(retMap)\n",
    "    \n"
   ]
  },
  {
   "cell_type": "code",
   "execution_count": 104,
   "metadata": {},
   "outputs": [],
   "source": [
    "class Divide(Resource):\n",
    "    def post(self):\n",
    "        \n",
    "        #Step 1 : Get posted data\n",
    "        postedData = request.get_json()\n",
    "        \n",
    "        #Step 2 : Verify validity of posted data\n",
    "        status_code = checkPostedData(postedData,\"divide\")\n",
    "        if (status_code!=200):\n",
    "            retJson = {\"Message\" : \"Missing Parameters or cannot divide a number by 0\" , \"Status_Code\" : status_code}\n",
    "            return jsonify(retJson)\n",
    "        \n",
    "        x = postedData[\"x\"]\n",
    "        y = postedData[\"y\"]\n",
    "        x = int(x)\n",
    "        y = int(y)\n",
    "        \n",
    "        #Step 3 : Multiply the posted data\n",
    "        ret = x*(1.0)/y\n",
    "        retMap = {\"Division\" : ret , \"Status_Code\" : 200}  #200 stands for success\n",
    "        return jsonify(retMap)"
   ]
  },
  {
   "cell_type": "code",
   "execution_count": 105,
   "metadata": {},
   "outputs": [],
   "source": [
    "api.add_resource(Add,\"/add\")\n",
    "api.add_resource(Subract,\"/subract\")\n",
    "api.add_resource(Multiply,\"/multiply\")\n",
    "api.add_resource(Divide,\"/divide\")"
   ]
  },
  {
   "cell_type": "code",
   "execution_count": 107,
   "metadata": {},
   "outputs": [
    {
     "name": "stdout",
     "output_type": "stream",
     "text": [
      " * Serving Flask app \"__main__\" (lazy loading)\n",
      " * Environment: production\n",
      "   WARNING: Do not use the development server in a production environment.\n",
      "   Use a production WSGI server instead.\n",
      " * Debug mode: off\n"
     ]
    },
    {
     "name": "stderr",
     "output_type": "stream",
     "text": [
      " * Running on http://127.0.0.1:5000/ (Press CTRL+C to quit)\n",
      "127.0.0.1 - - [18/Nov/2019 17:52:38] \"\u001b[37mPOST /add HTTP/1.1\u001b[0m\" 200 -\n",
      "127.0.0.1 - - [18/Nov/2019 17:52:51] \"\u001b[37mPOST /subract HTTP/1.1\u001b[0m\" 200 -\n",
      "127.0.0.1 - - [18/Nov/2019 17:53:06] \"\u001b[37mPOST /multiply HTTP/1.1\u001b[0m\" 200 -\n",
      "127.0.0.1 - - [18/Nov/2019 17:53:20] \"\u001b[37mPOST /divide HTTP/1.1\u001b[0m\" 200 -\n",
      "127.0.0.1 - - [18/Nov/2019 17:53:31] \"\u001b[37mPOST /divide HTTP/1.1\u001b[0m\" 200 -\n"
     ]
    }
   ],
   "source": [
    "if __name__==\"__main__\":\n",
    "    app.run()"
   ]
  },
  {
   "cell_type": "code",
   "execution_count": null,
   "metadata": {},
   "outputs": [],
   "source": []
  },
  {
   "cell_type": "code",
   "execution_count": null,
   "metadata": {},
   "outputs": [],
   "source": []
  },
  {
   "cell_type": "code",
   "execution_count": null,
   "metadata": {},
   "outputs": [],
   "source": []
  }
 ],
 "metadata": {
  "kernelspec": {
   "display_name": "Python 3",
   "language": "python",
   "name": "python3"
  },
  "language_info": {
   "codemirror_mode": {
    "name": "ipython",
    "version": 3
   },
   "file_extension": ".py",
   "mimetype": "text/x-python",
   "name": "python",
   "nbconvert_exporter": "python",
   "pygments_lexer": "ipython3",
   "version": "3.7.3"
  }
 },
 "nbformat": 4,
 "nbformat_minor": 2
}
