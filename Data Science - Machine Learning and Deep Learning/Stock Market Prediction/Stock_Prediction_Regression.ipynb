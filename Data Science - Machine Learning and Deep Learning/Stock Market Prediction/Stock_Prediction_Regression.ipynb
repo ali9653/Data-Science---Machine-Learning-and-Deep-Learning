{
 "cells": [
  {
   "cell_type": "code",
   "execution_count": 115,
   "metadata": {},
   "outputs": [],
   "source": [
    "import numpy as np \n",
    "from sklearn.linear_model import LinearRegression\n",
    "from sklearn.svm import SVR\n",
    "from sklearn.model_selection import train_test_split"
   ]
  },
  {
   "cell_type": "code",
   "execution_count": 493,
   "metadata": {},
   "outputs": [],
   "source": [
    "# Load the SBI dataset from NSEpy api\n",
    "from datetime import date\n",
    "from nsepy import get_history\n",
    "df = get_history(symbol='SBIN',\n",
    "                   start=date(2005,1,1),\n",
    "                   end=date(2019,10,21))\n",
    "#We have loaded data of 19 years till October 21th 2019"
   ]
  },
  {
   "cell_type": "code",
   "execution_count": 494,
   "metadata": {},
   "outputs": [
    {
     "data": {
      "text/html": [
       "<div>\n",
       "<style scoped>\n",
       "    .dataframe tbody tr th:only-of-type {\n",
       "        vertical-align: middle;\n",
       "    }\n",
       "\n",
       "    .dataframe tbody tr th {\n",
       "        vertical-align: top;\n",
       "    }\n",
       "\n",
       "    .dataframe thead th {\n",
       "        text-align: right;\n",
       "    }\n",
       "</style>\n",
       "<table border=\"1\" class=\"dataframe\">\n",
       "  <thead>\n",
       "    <tr style=\"text-align: right;\">\n",
       "      <th></th>\n",
       "      <th>Symbol</th>\n",
       "      <th>Series</th>\n",
       "      <th>Prev Close</th>\n",
       "      <th>Open</th>\n",
       "      <th>High</th>\n",
       "      <th>Low</th>\n",
       "      <th>Last</th>\n",
       "      <th>Close</th>\n",
       "      <th>VWAP</th>\n",
       "      <th>Volume</th>\n",
       "      <th>Turnover</th>\n",
       "      <th>Trades</th>\n",
       "      <th>Deliverable Volume</th>\n",
       "      <th>%Deliverble</th>\n",
       "    </tr>\n",
       "    <tr>\n",
       "      <th>Date</th>\n",
       "      <th></th>\n",
       "      <th></th>\n",
       "      <th></th>\n",
       "      <th></th>\n",
       "      <th></th>\n",
       "      <th></th>\n",
       "      <th></th>\n",
       "      <th></th>\n",
       "      <th></th>\n",
       "      <th></th>\n",
       "      <th></th>\n",
       "      <th></th>\n",
       "      <th></th>\n",
       "      <th></th>\n",
       "    </tr>\n",
       "  </thead>\n",
       "  <tbody>\n",
       "    <tr>\n",
       "      <th>2019-10-14</th>\n",
       "      <td>SBIN</td>\n",
       "      <td>EQ</td>\n",
       "      <td>254.55</td>\n",
       "      <td>256.95</td>\n",
       "      <td>259.40</td>\n",
       "      <td>254.0</td>\n",
       "      <td>255.30</td>\n",
       "      <td>255.45</td>\n",
       "      <td>257.29</td>\n",
       "      <td>28265136</td>\n",
       "      <td>7.272417e+14</td>\n",
       "      <td>179273.0</td>\n",
       "      <td>4441315.0</td>\n",
       "      <td>0.1571</td>\n",
       "    </tr>\n",
       "    <tr>\n",
       "      <th>2019-10-15</th>\n",
       "      <td>SBIN</td>\n",
       "      <td>EQ</td>\n",
       "      <td>255.45</td>\n",
       "      <td>256.45</td>\n",
       "      <td>259.90</td>\n",
       "      <td>254.8</td>\n",
       "      <td>258.50</td>\n",
       "      <td>258.45</td>\n",
       "      <td>257.06</td>\n",
       "      <td>23444973</td>\n",
       "      <td>6.026737e+14</td>\n",
       "      <td>158570.0</td>\n",
       "      <td>3020988.0</td>\n",
       "      <td>0.1289</td>\n",
       "    </tr>\n",
       "    <tr>\n",
       "      <th>2019-10-16</th>\n",
       "      <td>SBIN</td>\n",
       "      <td>EQ</td>\n",
       "      <td>258.45</td>\n",
       "      <td>259.30</td>\n",
       "      <td>261.95</td>\n",
       "      <td>255.0</td>\n",
       "      <td>255.95</td>\n",
       "      <td>256.05</td>\n",
       "      <td>258.26</td>\n",
       "      <td>30892295</td>\n",
       "      <td>7.978238e+14</td>\n",
       "      <td>208840.0</td>\n",
       "      <td>5747423.0</td>\n",
       "      <td>0.1860</td>\n",
       "    </tr>\n",
       "    <tr>\n",
       "      <th>2019-10-17</th>\n",
       "      <td>SBIN</td>\n",
       "      <td>EQ</td>\n",
       "      <td>256.05</td>\n",
       "      <td>256.40</td>\n",
       "      <td>266.00</td>\n",
       "      <td>255.6</td>\n",
       "      <td>265.30</td>\n",
       "      <td>265.45</td>\n",
       "      <td>261.38</td>\n",
       "      <td>37061013</td>\n",
       "      <td>9.686893e+14</td>\n",
       "      <td>252073.0</td>\n",
       "      <td>9998027.0</td>\n",
       "      <td>0.2698</td>\n",
       "    </tr>\n",
       "    <tr>\n",
       "      <th>2019-10-18</th>\n",
       "      <td>SBIN</td>\n",
       "      <td>EQ</td>\n",
       "      <td>265.45</td>\n",
       "      <td>264.40</td>\n",
       "      <td>271.35</td>\n",
       "      <td>263.2</td>\n",
       "      <td>269.20</td>\n",
       "      <td>269.65</td>\n",
       "      <td>268.50</td>\n",
       "      <td>33203721</td>\n",
       "      <td>8.915263e+14</td>\n",
       "      <td>203094.0</td>\n",
       "      <td>9219181.0</td>\n",
       "      <td>0.2777</td>\n",
       "    </tr>\n",
       "  </tbody>\n",
       "</table>\n",
       "</div>"
      ],
      "text/plain": [
       "           Symbol Series  Prev Close    Open    High    Low    Last   Close  \\\n",
       "Date                                                                          \n",
       "2019-10-14   SBIN     EQ      254.55  256.95  259.40  254.0  255.30  255.45   \n",
       "2019-10-15   SBIN     EQ      255.45  256.45  259.90  254.8  258.50  258.45   \n",
       "2019-10-16   SBIN     EQ      258.45  259.30  261.95  255.0  255.95  256.05   \n",
       "2019-10-17   SBIN     EQ      256.05  256.40  266.00  255.6  265.30  265.45   \n",
       "2019-10-18   SBIN     EQ      265.45  264.40  271.35  263.2  269.20  269.65   \n",
       "\n",
       "              VWAP    Volume      Turnover    Trades  Deliverable Volume  \\\n",
       "Date                                                                       \n",
       "2019-10-14  257.29  28265136  7.272417e+14  179273.0           4441315.0   \n",
       "2019-10-15  257.06  23444973  6.026737e+14  158570.0           3020988.0   \n",
       "2019-10-16  258.26  30892295  7.978238e+14  208840.0           5747423.0   \n",
       "2019-10-17  261.38  37061013  9.686893e+14  252073.0           9998027.0   \n",
       "2019-10-18  268.50  33203721  8.915263e+14  203094.0           9219181.0   \n",
       "\n",
       "            %Deliverble  \n",
       "Date                     \n",
       "2019-10-14       0.1571  \n",
       "2019-10-15       0.1289  \n",
       "2019-10-16       0.1860  \n",
       "2019-10-17       0.2698  \n",
       "2019-10-18       0.2777  "
      ]
     },
     "execution_count": 494,
     "metadata": {},
     "output_type": "execute_result"
    }
   ],
   "source": [
    "df.tail()"
   ]
  },
  {
   "cell_type": "code",
   "execution_count": 495,
   "metadata": {},
   "outputs": [
    {
     "name": "stdout",
     "output_type": "stream",
     "text": [
      "             Close\n",
      "Date              \n",
      "2005-01-03  655.75\n",
      "2005-01-04  649.90\n",
      "2005-01-05  617.45\n",
      "2005-01-06  604.30\n",
      "2005-01-07  615.65\n"
     ]
    }
   ],
   "source": [
    "# Get the Close Price\n",
    "df = df[['Close']]\n",
    "#Take a look at the new data\n",
    "print(df.head())"
   ]
  },
  {
   "cell_type": "code",
   "execution_count": 496,
   "metadata": {},
   "outputs": [
    {
     "name": "stdout",
     "output_type": "stream",
     "text": [
      "             Close  Prediction\n",
      "Date                          \n",
      "2019-10-14  255.45         NaN\n",
      "2019-10-15  258.45         NaN\n",
      "2019-10-16  256.05         NaN\n",
      "2019-10-17  265.45         NaN\n",
      "2019-10-18  269.65         NaN\n"
     ]
    }
   ],
   "source": [
    "# A variable for predicting 'n' days out into the future\n",
    "future_out = 22 #'n=24' days\n",
    "#Create another column (the target or dependent variable) shifted 'n' units up\n",
    "df['Prediction'] = df[['Close']].shift(-future_out)\n",
    "#print the new data set\n",
    "print(df.tail())"
   ]
  },
  {
   "cell_type": "code",
   "execution_count": 497,
   "metadata": {},
   "outputs": [
    {
     "name": "stdout",
     "output_type": "stream",
     "text": [
      "[[655.75]\n",
      " [649.9 ]\n",
      " [617.45]\n",
      " ...\n",
      " [287.05]\n",
      " [291.7 ]\n",
      " [284.7 ]]\n"
     ]
    }
   ],
   "source": [
    "\n",
    "### Create the independent data set (X)  #######\n",
    "# Convert the dataframe to a numpy array\n",
    "X = np.array(df.drop(['Prediction'],1))\n",
    "\n",
    "#Remove the last 'n' rows\n",
    "X = X[:-future_out]\n",
    "print(X)"
   ]
  },
  {
   "cell_type": "code",
   "execution_count": 498,
   "metadata": {},
   "outputs": [
    {
     "name": "stdout",
     "output_type": "stream",
     "text": [
      "[648.15 642.85 635.2  ... 256.05 265.45 269.65]\n"
     ]
    }
   ],
   "source": [
    "### Create the dependent data set (y)  #####\n",
    "# Convert the dataframe to a numpy array (All of the values including the NaN's)\n",
    "y = np.array(df['Prediction'])\n",
    "# Get all of the y values except the last 'n' rows\n",
    "y = y[:-future_out]\n",
    "print(y)"
   ]
  },
  {
   "cell_type": "code",
   "execution_count": 499,
   "metadata": {},
   "outputs": [],
   "source": [
    "# Split the data into 80% training and 20% testing\n",
    "x_train, x_test, y_train, y_test = train_test_split(X, y, test_size=0.2)"
   ]
  },
  {
   "cell_type": "code",
   "execution_count": 500,
   "metadata": {},
   "outputs": [
    {
     "data": {
      "text/plain": [
       "SVR(C=3000, cache_size=200, coef0=0.0, degree=3, epsilon=0.1, gamma=0.0001,\n",
       "  kernel='rbf', max_iter=-1, shrinking=True, tol=0.001, verbose=False)"
      ]
     },
     "execution_count": 500,
     "metadata": {},
     "output_type": "execute_result"
    }
   ],
   "source": [
    "# Create and train the Support Vector Machine (Regressor)\n",
    "svr_rbf = SVR(kernel='rbf', C=3000, gamma=0.0001)\n",
    "svr_rbf.fit(x_train, y_train)"
   ]
  },
  {
   "cell_type": "code",
   "execution_count": 501,
   "metadata": {},
   "outputs": [
    {
     "name": "stdout",
     "output_type": "stream",
     "text": [
      "svm confidence:  0.9257465035061285\n"
     ]
    }
   ],
   "source": [
    "\n",
    "# Testing Model: Score returns the coefficient of determination R^2 of the prediction. \n",
    "# The best possible score is 1.0\n",
    "svm_confidence = svr_rbf.score(x_test, y_test)\n",
    "print(\"svm confidence: \", svm_confidence)"
   ]
  },
  {
   "cell_type": "code",
   "execution_count": 502,
   "metadata": {},
   "outputs": [
    {
     "data": {
      "text/plain": [
       "LinearRegression(copy_X=True, fit_intercept=True, n_jobs=None,\n",
       "         normalize=False)"
      ]
     },
     "execution_count": 502,
     "metadata": {},
     "output_type": "execute_result"
    }
   ],
   "source": [
    "# Create and train the Linear Regression  Model\n",
    "lr = LinearRegression()\n",
    "# Train the model\n",
    "lr.fit(x_train, y_train)"
   ]
  },
  {
   "cell_type": "code",
   "execution_count": 503,
   "metadata": {},
   "outputs": [
    {
     "name": "stdout",
     "output_type": "stream",
     "text": [
      "lr confidence:  0.9170136888846345\n"
     ]
    }
   ],
   "source": [
    "\n",
    "# Testing Model: Score returns the coefficient of determination R^2 of the prediction. \n",
    "# The best possible score is 1.0\n",
    "lr_confidence = lr.score(x_test, y_test)\n",
    "print(\"lr confidence: \", lr_confidence)"
   ]
  },
  {
   "cell_type": "code",
   "execution_count": 504,
   "metadata": {},
   "outputs": [
    {
     "name": "stdout",
     "output_type": "stream",
     "text": [
      "[[273.95]\n",
      " [280.4 ]\n",
      " [274.05]\n",
      " [301.7 ]\n",
      " [313.75]\n",
      " [302.6 ]\n",
      " [280.25]\n",
      " [281.85]\n",
      " [281.2 ]\n",
      " [270.8 ]\n",
      " [255.95]\n",
      " [254.15]\n",
      " [249.95]\n",
      " [249.1 ]\n",
      " [260.95]\n",
      " [254.15]\n",
      " [254.55]\n",
      " [255.45]\n",
      " [258.45]\n",
      " [256.05]\n",
      " [265.45]\n",
      " [269.65]]\n"
     ]
    }
   ],
   "source": [
    "# Set x_forecast equal to the last 30 rows of the original data set from Adj. Close column\n",
    "x_forecast = np.array(df.drop(['Prediction'],1))[-future_out:]\n",
    "print(x_forecast)"
   ]
  },
  {
   "cell_type": "code",
   "execution_count": 505,
   "metadata": {},
   "outputs": [
    {
     "name": "stdout",
     "output_type": "stream",
     "text": [
      "[309.42938802 315.64551765 309.52576212 336.17320158 347.78628098\n",
      " 337.0405685  315.5009565  317.04294215 316.41651048 306.39360377\n",
      " 292.08204949 290.34731564 286.29960331 285.48042344 296.90075464\n",
      " 290.34731564 290.73281205 291.60017898 294.49140206 292.17842359\n",
      " 301.23758927 305.28530159]\n",
      "[271.85556737 276.19326679 271.92106157 292.69901623 303.1111152\n",
      " 293.46538994 276.08941332 277.20545864 276.74984106 269.81378943\n",
      " 260.30984433 259.11344221 256.23205671 255.63084997 263.54904355\n",
      " 259.11344221 259.38105475 259.97947839 261.94219415 260.3757472\n",
      " 266.40752761 269.07689002]\n"
     ]
    }
   ],
   "source": [
    "# Print linear regression model predictions for the next 'n' days\n",
    "lr_prediction = lr.predict(x_forecast)\n",
    "print(lr_prediction)\n",
    "\n",
    "# Print support vector regressor model predictions for the next 'n' days\n",
    "svm_prediction = svr_rbf.predict(x_forecast)\n",
    "print(svm_prediction)"
   ]
  },
  {
   "cell_type": "code",
   "execution_count": null,
   "metadata": {},
   "outputs": [],
   "source": []
  },
  {
   "cell_type": "markdown",
   "metadata": {},
   "source": [
    "**Now we will import sbi data from 20th Oct-2019 to 20th Nov-2019 TO compare our predicted values**"
   ]
  },
  {
   "cell_type": "code",
   "execution_count": 429,
   "metadata": {},
   "outputs": [],
   "source": [
    "import pandas as pd"
   ]
  },
  {
   "cell_type": "code",
   "execution_count": 430,
   "metadata": {},
   "outputs": [],
   "source": [
    "sbin = pd.read_csv('sbi_nov.csv')"
   ]
  },
  {
   "cell_type": "code",
   "execution_count": 431,
   "metadata": {},
   "outputs": [
    {
     "data": {
      "text/html": [
       "<div>\n",
       "<style scoped>\n",
       "    .dataframe tbody tr th:only-of-type {\n",
       "        vertical-align: middle;\n",
       "    }\n",
       "\n",
       "    .dataframe tbody tr th {\n",
       "        vertical-align: top;\n",
       "    }\n",
       "\n",
       "    .dataframe thead th {\n",
       "        text-align: right;\n",
       "    }\n",
       "</style>\n",
       "<table border=\"1\" class=\"dataframe\">\n",
       "  <thead>\n",
       "    <tr style=\"text-align: right;\">\n",
       "      <th></th>\n",
       "      <th>Close</th>\n",
       "    </tr>\n",
       "  </thead>\n",
       "  <tbody>\n",
       "    <tr>\n",
       "      <th>0</th>\n",
       "      <td>270.50</td>\n",
       "    </tr>\n",
       "    <tr>\n",
       "      <th>1</th>\n",
       "      <td>275.45</td>\n",
       "    </tr>\n",
       "    <tr>\n",
       "      <th>2</th>\n",
       "      <td>262.50</td>\n",
       "    </tr>\n",
       "    <tr>\n",
       "      <th>3</th>\n",
       "      <td>281.55</td>\n",
       "    </tr>\n",
       "    <tr>\n",
       "      <th>4</th>\n",
       "      <td>281.80</td>\n",
       "    </tr>\n",
       "    <tr>\n",
       "      <th>5</th>\n",
       "      <td>280.65</td>\n",
       "    </tr>\n",
       "    <tr>\n",
       "      <th>6</th>\n",
       "      <td>289.90</td>\n",
       "    </tr>\n",
       "    <tr>\n",
       "      <th>7</th>\n",
       "      <td>312.40</td>\n",
       "    </tr>\n",
       "    <tr>\n",
       "      <th>8</th>\n",
       "      <td>313.55</td>\n",
       "    </tr>\n",
       "    <tr>\n",
       "      <th>9</th>\n",
       "      <td>314.30</td>\n",
       "    </tr>\n",
       "    <tr>\n",
       "      <th>10</th>\n",
       "      <td>319.20</td>\n",
       "    </tr>\n",
       "    <tr>\n",
       "      <th>11</th>\n",
       "      <td>317.55</td>\n",
       "    </tr>\n",
       "    <tr>\n",
       "      <th>12</th>\n",
       "      <td>318.15</td>\n",
       "    </tr>\n",
       "    <tr>\n",
       "      <th>13</th>\n",
       "      <td>316.00</td>\n",
       "    </tr>\n",
       "    <tr>\n",
       "      <th>14</th>\n",
       "      <td>318.25</td>\n",
       "    </tr>\n",
       "    <tr>\n",
       "      <th>15</th>\n",
       "      <td>306.80</td>\n",
       "    </tr>\n",
       "    <tr>\n",
       "      <th>16</th>\n",
       "      <td>306.00</td>\n",
       "    </tr>\n",
       "    <tr>\n",
       "      <th>17</th>\n",
       "      <td>321.90</td>\n",
       "    </tr>\n",
       "    <tr>\n",
       "      <th>18</th>\n",
       "      <td>325.10</td>\n",
       "    </tr>\n",
       "    <tr>\n",
       "      <th>19</th>\n",
       "      <td>330.40</td>\n",
       "    </tr>\n",
       "    <tr>\n",
       "      <th>20</th>\n",
       "      <td>328.80</td>\n",
       "    </tr>\n",
       "  </tbody>\n",
       "</table>\n",
       "</div>"
      ],
      "text/plain": [
       "     Close\n",
       "0   270.50\n",
       "1   275.45\n",
       "2   262.50\n",
       "3   281.55\n",
       "4   281.80\n",
       "5   280.65\n",
       "6   289.90\n",
       "7   312.40\n",
       "8   313.55\n",
       "9   314.30\n",
       "10  319.20\n",
       "11  317.55\n",
       "12  318.15\n",
       "13  316.00\n",
       "14  318.25\n",
       "15  306.80\n",
       "16  306.00\n",
       "17  321.90\n",
       "18  325.10\n",
       "19  330.40\n",
       "20  328.80"
      ]
     },
     "execution_count": 431,
     "metadata": {},
     "output_type": "execute_result"
    }
   ],
   "source": [
    "sbin"
   ]
  },
  {
   "cell_type": "code",
   "execution_count": 432,
   "metadata": {},
   "outputs": [],
   "source": [
    "import matplotlib.pyplot as plt"
   ]
  },
  {
   "cell_type": "markdown",
   "metadata": {},
   "source": [
    "**We will plot a graph to copmare all 3 datasets**"
   ]
  },
  {
   "cell_type": "code",
   "execution_count": 506,
   "metadata": {},
   "outputs": [
    {
     "data": {
      "image/png": "[encoded data removed]",
      "text/plain": [
       "<Figure size 720x432 with 1 Axes>"
      ]
     },
     "metadata": {
      "needs_background": "light"
     },
     "output_type": "display_data"
    }
   ],
   "source": [
    "plt.figure(figsize=(10,6))\n",
    "plt.plot(lr_prediction, color='blue', label='Linear Regression SBI Stock Price')\n",
    "plt.plot(svm_prediction , color='red', label='SVM SBI Stock Price')\n",
    "plt.plot(sbin , color='green', label='November SBI Stock Price')\n",
    "plt.title('SBI Stock Price Prediction')\n",
    "plt.xlabel('Date')\n",
    "plt.ylabel('SBI Stock Price')\n",
    "plt.legend()\n",
    "plt.show()"
   ]
  },
  {
   "cell_type": "markdown",
   "metadata": {},
   "source": [
    "## Conclusion\n",
    "#### We have built a decent model. Stock market movement is not random, however using machine learning algorithms we can atleast have an insight about the future about a particular stock"
   ]
  }
 ],
 "metadata": {
  "kernelspec": {
   "display_name": "Python 3",
   "language": "python",
   "name": "python3"
  },
  "language_info": {
   "codemirror_mode": {
    "name": "ipython",
    "version": 3
   },
   "file_extension": ".py",
   "mimetype": "text/x-python",
   "name": "python",
   "nbconvert_exporter": "python",
   "pygments_lexer": "ipython3",
   "version": "3.7.3"
  }
 },
 "nbformat": 4,
 "nbformat_minor": 2
}
